{
 "cells": [
  {
   "cell_type": "code",
   "execution_count": 0,
   "metadata": {
    "application/vnd.databricks.v1+cell": {
     "cellMetadata": {
      "byteLimit": 2048000,
      "rowLimit": 10000
     },
     "inputWidgets": {},
     "nuid": "24d3f343-a37f-4c0b-947a-7dba67cf0098",
     "showTitle": false,
     "tableResultSettingsMap": {},
     "title": ""
    }
   },
   "outputs": [
    {
     "output_type": "stream",
     "name": "stdout",
     "output_type": "stream",
     "text": [
      "+-----+-------------------+----------+--------------------+----------+--------------+------------------+-------+---------------+-------------+----+----------+--------------+---+--------+------+-----------+-----------+----------------+------------+--------------------+-----+------------+-----------+\n|index|           Order ID|      Date|              Status|Fulfilment|Sales Channel |ship-service-level|  Style|            SKU|     Category|Size|      ASIN|Courier Status|Qty|currency|Amount|  ship-city| ship-state|ship-postal-code|ship-country|       promotion-ids|  B2B|fulfilled-by|Unnamed: 22|\n+-----+-------------------+----------+--------------------+----------+--------------+------------------+-------+---------------+-------------+----+----------+--------------+---+--------+------+-----------+-----------+----------------+------------+--------------------+-----+------------+-----------+\n|    0|405-8078784-5731545|2022-04-30|           Cancelled|  Merchant|     Amazon.in|          Standard| SET389| SET389-KR-NP-S|          Set|   S|B09KXVBD7Z|          null|  0|     INR|647.62|     MUMBAI|MAHARASHTRA|        400081.0|          IN|                null|false|   Easy Ship|       null|\n|    1|171-9198151-1101146|2022-04-30|Shipped - Deliver...|  Merchant|     Amazon.in|          Standard|JNE3781|JNE3781-KR-XXXL|        kurta| 3XL|B09K3WFS32|       Shipped|  1|     INR| 406.0|  BENGALURU|  KARNATAKA|        560085.0|          IN|Amazon PLCC Free-...|false|   Easy Ship|       null|\n|    2|404-0687676-7273146|2022-04-30|             Shipped|    Amazon|     Amazon.in|         Expedited|JNE3371|  JNE3371-KR-XL|        kurta|  XL|B07WV4JV4D|       Shipped|  1|     INR| 329.0|NAVI MUMBAI|MAHARASHTRA|        410210.0|          IN|IN Core Free Ship...| true|        null|       null|\n|    3|403-9615377-8133951|2022-04-30|           Cancelled|  Merchant|     Amazon.in|          Standard|  J0341|     J0341-DR-L|Western Dress|   L|B099NRCT7B|          null|  0|     INR|753.33| PUDUCHERRY| PUDUCHERRY|        605008.0|          IN|                null|false|   Easy Ship|       null|\n|    4|407-1069790-7240320|2022-04-30|             Shipped|    Amazon|     Amazon.in|         Expedited|JNE3671|JNE3671-TU-XXXL|          Top| 3XL|B098714BZP|       Shipped|  1|     INR| 574.0|    CHENNAI| TAMIL NADU|        600073.0|          IN|                null|false|        null|       null|\n+-----+-------------------+----------+--------------------+----------+--------------+------------------+-------+---------------+-------------+----+----------+--------------+---+--------+------+-----------+-----------+----------------+------------+--------------------+-----+------------+-----------+\nonly showing top 5 rows\n\n"
     ]
    }
   ],
   "source": [
    "#Loading raw order data (CSV)\n",
    "df = spark.read.option(\"header\", \"true\").option(\"inferSchema\", \"true\").csv(\"/FileStore/tables/Amazon_Sale_Report-3.csv\")\n",
    "df.show(5)"
   ]
  },
  {
   "cell_type": "code",
   "execution_count": 0,
   "metadata": {
    "application/vnd.databricks.v1+cell": {
     "cellMetadata": {
      "byteLimit": 2048000,
      "rowLimit": 10000
     },
     "inputWidgets": {},
     "nuid": "f762cbdc-bc8a-4428-a473-c77b3c391986",
     "showTitle": false,
     "tableResultSettingsMap": {},
     "title": ""
    }
   },
   "outputs": [
    {
     "output_type": "stream",
     "name": "stdout",
     "output_type": "stream",
     "text": [
      "root\n |-- index: integer (nullable = true)\n |-- Order ID: string (nullable = true)\n |-- Date: date (nullable = true)\n |-- Status: string (nullable = true)\n |-- Fulfilment: string (nullable = true)\n |-- Sales Channel : string (nullable = true)\n |-- ship-service-level: string (nullable = true)\n |-- Style: string (nullable = true)\n |-- SKU: string (nullable = true)\n |-- Category: string (nullable = true)\n |-- Size: string (nullable = true)\n |-- ASIN: string (nullable = true)\n |-- Courier Status: string (nullable = true)\n |-- Qty: integer (nullable = true)\n |-- currency: string (nullable = true)\n |-- Amount: double (nullable = true)\n |-- ship-city: string (nullable = true)\n |-- ship-state: string (nullable = true)\n |-- ship-postal-code: double (nullable = true)\n |-- ship-country: string (nullable = true)\n |-- promotion-ids: string (nullable = true)\n |-- B2B: boolean (nullable = true)\n |-- fulfilled-by: string (nullable = true)\n |-- Unnamed: 22: boolean (nullable = true)\n\n"
     ]
    }
   ],
   "source": [
    "#Inspecting schema design\n",
    "df.printSchema()"
   ]
  },
  {
   "cell_type": "code",
   "execution_count": 0,
   "metadata": {
    "application/vnd.databricks.v1+cell": {
     "cellMetadata": {
      "byteLimit": 2048000,
      "rowLimit": 10000
     },
     "inputWidgets": {},
     "nuid": "a43c9ef3-62b3-48ee-8be2-d23b09804840",
     "showTitle": false,
     "tableResultSettingsMap": {},
     "title": ""
    }
   },
   "outputs": [],
   "source": [
    "#Filter out rows with null/invalid data\n",
    "df = df.dropna(subset=[\"SKU\", \"Qty\", \"Amount\", \"ship-city\"])"
   ]
  },
  {
   "cell_type": "code",
   "execution_count": 0,
   "metadata": {
    "application/vnd.databricks.v1+cell": {
     "cellMetadata": {
      "byteLimit": 2048000,
      "rowLimit": 10000
     },
     "inputWidgets": {},
     "nuid": "4701040d-9ad1-4eae-b5df-89ba5f7908b0",
     "showTitle": false,
     "tableResultSettingsMap": {},
     "title": ""
    }
   },
   "outputs": [],
   "source": [
    "#Importing required libraries for next process\n",
    "from pyspark.sql.functions import col, lit, when, expr, udf\n",
    "from pyspark.sql.types import StringType, FloatType, IntegerType\n",
    "import random\n",
    "\n",
    "# To generate weight, length, width, and height random numbers to use in the process\n",
    "# random library is used here\n",
    "spark.udf.register(\"generate_weight\", lambda: round(random.uniform(0.5, 3.0), 2), FloatType())\n",
    "spark.udf.register(\"generate_length\", lambda: random.randint(20, 40), IntegerType())\n",
    "spark.udf.register(\"generate_width\", lambda: random.randint(10, 30), IntegerType())\n",
    "spark.udf.register(\"generate_height\", lambda: random.randint(2, 10), IntegerType())\n",
    "\n",
    "# Adding those as columns\n",
    "df = df.withColumn(\"weight_kg\", expr(\"generate_weight()\")) \\\n",
    "       .withColumn(\"length_cm\", expr(\"generate_length()\")) \\\n",
    "       .withColumn(\"width_cm\", expr(\"generate_width()\")) \\\n",
    "       .withColumn(\"height_cm\", expr(\"generate_height()\"))"
   ]
  },
  {
   "cell_type": "code",
   "execution_count": 0,
   "metadata": {
    "application/vnd.databricks.v1+cell": {
     "cellMetadata": {
      "byteLimit": 2048000,
      "rowLimit": 10000
     },
     "inputWidgets": {},
     "nuid": "76706f94-ec34-4efc-978b-89bbc2646ef0",
     "showTitle": false,
     "tableResultSettingsMap": {},
     "title": ""
    }
   },
   "outputs": [],
   "source": [
    "#Assigning supplier city randomly\n",
    "supplier_cities = [\"Mumbai\", \"Delhi\", \"Bangalore\", \"Chennai\", \"Hyderabad\"]\n",
    "assign_supplier = udf(lambda: random.choice(supplier_cities), StringType())\n",
    "\n",
    "df = df.withColumn(\"supplier_city\", assign_supplier())"
   ]
  },
  {
   "cell_type": "code",
   "execution_count": 0,
   "metadata": {
    "application/vnd.databricks.v1+cell": {
     "cellMetadata": {
      "byteLimit": 2048000,
      "rowLimit": 10000
     },
     "inputWidgets": {},
     "nuid": "78ce420e-afb3-4f98-981d-bb7eb7ea8186",
     "showTitle": false,
     "tableResultSettingsMap": {},
     "title": ""
    }
   },
   "outputs": [],
   "source": [
    "# Random distance generator\n",
    "def estimate_distance(supplier, destination):\n",
    "    if supplier.lower() == destination.lower():\n",
    "        return 50\n",
    "    else:\n",
    "        return random.randint(500, 2000)\n",
    "\n",
    "estimate_distance_udf = udf(estimate_distance, IntegerType())\n",
    "df = df.withColumn(\"distance_km\", estimate_distance_udf(col(\"supplier_city\"), col(\"ship-city\")))"
   ]
  },
  {
   "cell_type": "code",
   "execution_count": 0,
   "metadata": {
    "application/vnd.databricks.v1+cell": {
     "cellMetadata": {
      "byteLimit": 2048000,
      "rowLimit": 10000
     },
     "inputWidgets": {},
     "nuid": "10803dd8-54ef-4d23-be9f-9efda06b158e",
     "showTitle": false,
     "tableResultSettingsMap": {},
     "title": ""
    }
   },
   "outputs": [
    {
     "output_type": "display_data",
     "data": {
      "text/html": [
       "<style scoped>\n",
       "  .table-result-container {\n",
       "    max-height: 300px;\n",
       "    overflow: auto;\n",
       "  }\n",
       "  table, th, td {\n",
       "    border: 1px solid black;\n",
       "    border-collapse: collapse;\n",
       "  }\n",
       "  th, td {\n",
       "    padding: 5px;\n",
       "  }\n",
       "  th {\n",
       "    text-align: left;\n",
       "  }\n",
       "</style><div class='table-result-container'><table class='table-result'><thead style='background-color: white'><tr><th>index</th><th>Order ID</th><th>Date</th><th>Status</th><th>Fulfilment</th><th>Sales Channel </th><th>ship-service-level</th><th>Style</th><th>SKU</th><th>Category</th><th>Size</th><th>ASIN</th><th>Courier Status</th><th>Qty</th><th>currency</th><th>Amount</th><th>ship-city</th><th>ship-state</th><th>ship-postal-code</th><th>ship-country</th><th>promotion-ids</th><th>B2B</th><th>fulfilled-by</th><th>Unnamed: 22</th><th>weight_kg</th><th>length_cm</th><th>width_cm</th><th>height_cm</th><th>supplier_city</th><th>distance_km</th></tr></thead><tbody><tr><td>0</td><td>405-8078784-5731545</td><td>2022-04-30</td><td>Cancelled</td><td>Merchant</td><td>Amazon.in</td><td>Standard</td><td>SET389</td><td>SET389-KR-NP-S</td><td>Set</td><td>S</td><td>B09KXVBD7Z</td><td>null</td><td>0</td><td>INR</td><td>647.62</td><td>MUMBAI</td><td>MAHARASHTRA</td><td>400081.0</td><td>IN</td><td>null</td><td>false</td><td>Easy Ship</td><td>null</td><td>2.52</td><td>36</td><td>23</td><td>3</td><td>Mumbai</td><td>50</td></tr><tr><td>1</td><td>171-9198151-1101146</td><td>2022-04-30</td><td>Shipped - Delivered to Buyer</td><td>Merchant</td><td>Amazon.in</td><td>Standard</td><td>JNE3781</td><td>JNE3781-KR-XXXL</td><td>kurta</td><td>3XL</td><td>B09K3WFS32</td><td>Shipped</td><td>1</td><td>INR</td><td>406.0</td><td>BENGALURU</td><td>KARNATAKA</td><td>560085.0</td><td>IN</td><td>Amazon PLCC Free-Financing Universal Merchant AAT-WNKTBO3K27EJC,Amazon PLCC Free-Financing Universal Merchant AAT-QX3UCCJESKPA2,Amazon PLCC Free-Financing Universal Merchant AAT-5QQ7BIYYQEDN2,Amazon PLCC Free-Financing Universal Merchant AAT-DSJ2QRXXWXVMQ,Amazon PLCC Free-Financing Universal Merchant AAT-CXJHMC2YJUK76,Amazon PLCC Free-Financing Universal Merchant AAT-CC4FAVTYR4X7C,Amazon PLCC Free-Financing Universal Merchant AAT-XXRCW6NZEPZI4,Amazon PLCC Free-Financing Universal Merchant AAT-CXNSLNBROFDW4,Amazon PLCC Free-Financing Universal Merchant AAT-R7GXNZWISTRFA,Amazon PLCC Free-Financing Universal Merchant AAT-WSJLDN3X7KEMO,Amazon PLCC Free-Financing Universal Merchant AAT-VL6FGQVGQVXUS,Amazon PLCC Free-Financing Universal Merchant AAT-EOKPWFWYW7Y6I,Amazon PLCC Free-Financing Universal Merchant AAT-ZYL5UPUNW6T62,Amazon PLCC Free-Financing Universal Merchant AAT-XVPICCHRWDCAI,Amazon PLCC Free-Financing Universal Merchant AAT-ETXQ3XXWMRXBG,Amazon PLCC Free-Financing Universal Merchant AAT-7X3XCTYG64VBE,Amazon PLCC Free-Financing Universal Merchant AAT-7CHGD3WTS3MHM,Amazon PLCC Free-Financing Universal Merchant AAT-26ZDKNME27X42,Amazon PLCC Free-Financing Universal Merchant AAT-4ZF5KN6E4LJK4,Amazon PLCC Free-Financing Universal Merchant AAT-7RCXIKUAX7DDY,Amazon PLCC Free-Financing Universal Merchant AAT-BRSZZ45H6MHAO,Amazon PLCC Free-Financing Universal Merchant AAT-MKLXOOZWQL7GO,Amazon PLCC Free-Financing Universal Merchant AAT-CB7UNXEXGIJTC,Amazon PLCC Free-Financing Universal Merchant #MP-gzasho-1593152694811,Amazon PLCC Free-Financing Universal Merchant AAT-WLBA4GZ52EAH4</td><td>false</td><td>Easy Ship</td><td>null</td><td>2.26</td><td>26</td><td>25</td><td>10</td><td>Chennai</td><td>722</td></tr><tr><td>2</td><td>404-0687676-7273146</td><td>2022-04-30</td><td>Shipped</td><td>Amazon</td><td>Amazon.in</td><td>Expedited</td><td>JNE3371</td><td>JNE3371-KR-XL</td><td>kurta</td><td>XL</td><td>B07WV4JV4D</td><td>Shipped</td><td>1</td><td>INR</td><td>329.0</td><td>NAVI MUMBAI</td><td>MAHARASHTRA</td><td>410210.0</td><td>IN</td><td>IN Core Free Shipping 2015/04/08 23-48-5-108</td><td>true</td><td>null</td><td>null</td><td>1.2</td><td>22</td><td>22</td><td>8</td><td>Delhi</td><td>1430</td></tr><tr><td>3</td><td>403-9615377-8133951</td><td>2022-04-30</td><td>Cancelled</td><td>Merchant</td><td>Amazon.in</td><td>Standard</td><td>J0341</td><td>J0341-DR-L</td><td>Western Dress</td><td>L</td><td>B099NRCT7B</td><td>null</td><td>0</td><td>INR</td><td>753.33</td><td>PUDUCHERRY</td><td>PUDUCHERRY</td><td>605008.0</td><td>IN</td><td>null</td><td>false</td><td>Easy Ship</td><td>null</td><td>1.21</td><td>27</td><td>22</td><td>2</td><td>Bangalore</td><td>1108</td></tr><tr><td>4</td><td>407-1069790-7240320</td><td>2022-04-30</td><td>Shipped</td><td>Amazon</td><td>Amazon.in</td><td>Expedited</td><td>JNE3671</td><td>JNE3671-TU-XXXL</td><td>Top</td><td>3XL</td><td>B098714BZP</td><td>Shipped</td><td>1</td><td>INR</td><td>574.0</td><td>CHENNAI</td><td>TAMIL NADU</td><td>600073.0</td><td>IN</td><td>null</td><td>false</td><td>null</td><td>null</td><td>1.98</td><td>25</td><td>30</td><td>8</td><td>Delhi</td><td>1282</td></tr><tr><td>5</td><td>404-1490984-4578765</td><td>2022-04-30</td><td>Shipped</td><td>Amazon</td><td>Amazon.in</td><td>Expedited</td><td>SET264</td><td>SET264-KR-NP-XL</td><td>Set</td><td>XL</td><td>B08YN7XDSG</td><td>Shipped</td><td>1</td><td>INR</td><td>824.0</td><td>GHAZIABAD</td><td>UTTAR PRADESH</td><td>201102.0</td><td>IN</td><td>IN Core Free Shipping 2015/04/08 23-48-5-108</td><td>false</td><td>null</td><td>null</td><td>0.76</td><td>30</td><td>30</td><td>3</td><td>Chennai</td><td>973</td></tr><tr><td>6</td><td>408-5748499-6859555</td><td>2022-04-30</td><td>Shipped</td><td>Amazon</td><td>Amazon.in</td><td>Expedited</td><td>J0095</td><td>J0095-SET-L</td><td>Set</td><td>L</td><td>B08CMHNWBN</td><td>Shipped</td><td>1</td><td>INR</td><td>653.0</td><td>CHANDIGARH</td><td>CHANDIGARH</td><td>160036.0</td><td>IN</td><td>IN Core Free Shipping 2015/04/08 23-48-5-108</td><td>false</td><td>null</td><td>null</td><td>0.93</td><td>24</td><td>14</td><td>2</td><td>Hyderabad</td><td>1247</td></tr><tr><td>7</td><td>406-7807733-3785945</td><td>2022-04-30</td><td>Shipped - Delivered to Buyer</td><td>Merchant</td><td>Amazon.in</td><td>Standard</td><td>JNE3405</td><td>JNE3405-KR-S</td><td>kurta</td><td>S</td><td>B081WX4G4Q</td><td>Shipped</td><td>1</td><td>INR</td><td>399.0</td><td>HYDERABAD</td><td>TELANGANA</td><td>500032.0</td><td>IN</td><td>Amazon PLCC Free-Financing Universal Merchant AAT-WNKTBO3K27EJC,Amazon PLCC Free-Financing Universal Merchant AAT-QX3UCCJESKPA2,Amazon PLCC Free-Financing Universal Merchant AAT-5QQ7BIYYQEDN2,Amazon PLCC Free-Financing Universal Merchant AAT-DSJ2QRXXWXVMQ,Amazon PLCC Free-Financing Universal Merchant AAT-CXJHMC2YJUK76,Amazon PLCC Free-Financing Universal Merchant AAT-CC4FAVTYR4X7C,Amazon PLCC Free-Financing Universal Merchant AAT-XXRCW6NZEPZI4,Amazon PLCC Free-Financing Universal Merchant AAT-EOKPWFWYW7Y6I,Amazon PLCC Free-Financing Universal Merchant AAT-ZYL5UPUNW6T62,Amazon PLCC Free-Financing Universal Merchant AAT-ETXQ3XXWMRXBG,Amazon PLCC Free-Financing Universal Merchant AAT-7X3XCTYG64VBE,Amazon PLCC Free-Financing Universal Merchant AAT-7CHGD3WTS3MHM,Amazon PLCC Free-Financing Universal Merchant AAT-26ZDKNME27X42,Amazon PLCC Free-Financing Universal Merchant AAT-4ZF5KN6E4LJK4,Amazon PLCC Free-Financing Universal Merchant AAT-7RCXIKUAX7DDY,Amazon PLCC Free-Financing Universal Merchant AAT-BRSZZ45H6MHAO,Amazon PLCC Free-Financing Universal Merchant AAT-MKLXOOZWQL7GO,Amazon PLCC Free-Financing Universal Merchant AAT-CB7UNXEXGIJTC,Amazon PLCC Free-Financing Universal Merchant #MP-gzasho-1593152694811,Amazon PLCC Free-Financing Universal Merchant AAT-WLBA4GZ52EAH4</td><td>false</td><td>Easy Ship</td><td>null</td><td>2.23</td><td>22</td><td>23</td><td>2</td><td>Hyderabad</td><td>50</td></tr><tr><td>9</td><td>402-4393761-0311520</td><td>2022-04-30</td><td>Shipped</td><td>Amazon</td><td>Amazon.in</td><td>Expedited</td><td>JNE3461</td><td>JNE3461-KR-XXL</td><td>kurta</td><td>XXL</td><td>B08B3XF5MH</td><td>Shipped</td><td>1</td><td>INR</td><td>363.0</td><td>Chennai</td><td>TAMIL NADU</td><td>600041.0</td><td>IN</td><td>null</td><td>false</td><td>null</td><td>null</td><td>1.08</td><td>40</td><td>15</td><td>9</td><td>Chennai</td><td>50</td></tr><tr><td>10</td><td>407-5633625-6970741</td><td>2022-04-30</td><td>Shipped</td><td>Amazon</td><td>Amazon.in</td><td>Expedited</td><td>JNE3160</td><td>JNE3160-KR-G-S</td><td>kurta</td><td>S</td><td>B07K3YQLF1</td><td>Shipped</td><td>1</td><td>INR</td><td>685.0</td><td>CHENNAI</td><td>TAMIL NADU</td><td>600073.0</td><td>IN</td><td>null</td><td>false</td><td>null</td><td>null</td><td>1.59</td><td>34</td><td>28</td><td>9</td><td>Bangalore</td><td>1191</td></tr></tbody></table></div>"
      ]
     },
     "metadata": {
      "application/vnd.databricks.v1+output": {
       "addedWidgets": {},
       "aggData": [],
       "aggError": "",
       "aggOverflow": false,
       "aggSchema": [],
       "aggSeriesLimitReached": false,
       "aggType": "",
       "arguments": {},
       "columnCustomDisplayInfos": {},
       "data": [
        [
         0,
         "405-8078784-5731545",
         "2022-04-30",
         "Cancelled",
         "Merchant",
         "Amazon.in",
         "Standard",
         "SET389",
         "SET389-KR-NP-S",
         "Set",
         "S",
         "B09KXVBD7Z",
         null,
         0,
         "INR",
         647.62,
         "MUMBAI",
         "MAHARASHTRA",
         400081.0,
         "IN",
         null,
         false,
         "Easy Ship",
         null,
         2.52,
         36,
         23,
         3,
         "Mumbai",
         50
        ],
        [
         1,
         "171-9198151-1101146",
         "2022-04-30",
         "Shipped - Delivered to Buyer",
         "Merchant",
         "Amazon.in",
         "Standard",
         "JNE3781",
         "JNE3781-KR-XXXL",
         "kurta",
         "3XL",
         "B09K3WFS32",
         "Shipped",
         1,
         "INR",
         406.0,
         "BENGALURU",
         "KARNATAKA",
         560085.0,
         "IN",
         "Amazon PLCC Free-Financing Universal Merchant AAT-WNKTBO3K27EJC,Amazon PLCC Free-Financing Universal Merchant AAT-QX3UCCJESKPA2,Amazon PLCC Free-Financing Universal Merchant AAT-5QQ7BIYYQEDN2,Amazon PLCC Free-Financing Universal Merchant AAT-DSJ2QRXXWXVMQ,Amazon PLCC Free-Financing Universal Merchant AAT-CXJHMC2YJUK76,Amazon PLCC Free-Financing Universal Merchant AAT-CC4FAVTYR4X7C,Amazon PLCC Free-Financing Universal Merchant AAT-XXRCW6NZEPZI4,Amazon PLCC Free-Financing Universal Merchant AAT-CXNSLNBROFDW4,Amazon PLCC Free-Financing Universal Merchant AAT-R7GXNZWISTRFA,Amazon PLCC Free-Financing Universal Merchant AAT-WSJLDN3X7KEMO,Amazon PLCC Free-Financing Universal Merchant AAT-VL6FGQVGQVXUS,Amazon PLCC Free-Financing Universal Merchant AAT-EOKPWFWYW7Y6I,Amazon PLCC Free-Financing Universal Merchant AAT-ZYL5UPUNW6T62,Amazon PLCC Free-Financing Universal Merchant AAT-XVPICCHRWDCAI,Amazon PLCC Free-Financing Universal Merchant AAT-ETXQ3XXWMRXBG,Amazon PLCC Free-Financing Universal Merchant AAT-7X3XCTYG64VBE,Amazon PLCC Free-Financing Universal Merchant AAT-7CHGD3WTS3MHM,Amazon PLCC Free-Financing Universal Merchant AAT-26ZDKNME27X42,Amazon PLCC Free-Financing Universal Merchant AAT-4ZF5KN6E4LJK4,Amazon PLCC Free-Financing Universal Merchant AAT-7RCXIKUAX7DDY,Amazon PLCC Free-Financing Universal Merchant AAT-BRSZZ45H6MHAO,Amazon PLCC Free-Financing Universal Merchant AAT-MKLXOOZWQL7GO,Amazon PLCC Free-Financing Universal Merchant AAT-CB7UNXEXGIJTC,Amazon PLCC Free-Financing Universal Merchant #MP-gzasho-1593152694811,Amazon PLCC Free-Financing Universal Merchant AAT-WLBA4GZ52EAH4",
         false,
         "Easy Ship",
         null,
         2.26,
         26,
         25,
         10,
         "Chennai",
         722
        ],
        [
         2,
         "404-0687676-7273146",
         "2022-04-30",
         "Shipped",
         "Amazon",
         "Amazon.in",
         "Expedited",
         "JNE3371",
         "JNE3371-KR-XL",
         "kurta",
         "XL",
         "B07WV4JV4D",
         "Shipped",
         1,
         "INR",
         329.0,
         "NAVI MUMBAI",
         "MAHARASHTRA",
         410210.0,
         "IN",
         "IN Core Free Shipping 2015/04/08 23-48-5-108",
         true,
         null,
         null,
         1.2,
         22,
         22,
         8,
         "Delhi",
         1430
        ],
        [
         3,
         "403-9615377-8133951",
         "2022-04-30",
         "Cancelled",
         "Merchant",
         "Amazon.in",
         "Standard",
         "J0341",
         "J0341-DR-L",
         "Western Dress",
         "L",
         "B099NRCT7B",
         null,
         0,
         "INR",
         753.33,
         "PUDUCHERRY",
         "PUDUCHERRY",
         605008.0,
         "IN",
         null,
         false,
         "Easy Ship",
         null,
         1.21,
         27,
         22,
         2,
         "Bangalore",
         1108
        ],
        [
         4,
         "407-1069790-7240320",
         "2022-04-30",
         "Shipped",
         "Amazon",
         "Amazon.in",
         "Expedited",
         "JNE3671",
         "JNE3671-TU-XXXL",
         "Top",
         "3XL",
         "B098714BZP",
         "Shipped",
         1,
         "INR",
         574.0,
         "CHENNAI",
         "TAMIL NADU",
         600073.0,
         "IN",
         null,
         false,
         null,
         null,
         1.98,
         25,
         30,
         8,
         "Delhi",
         1282
        ],
        [
         5,
         "404-1490984-4578765",
         "2022-04-30",
         "Shipped",
         "Amazon",
         "Amazon.in",
         "Expedited",
         "SET264",
         "SET264-KR-NP-XL",
         "Set",
         "XL",
         "B08YN7XDSG",
         "Shipped",
         1,
         "INR",
         824.0,
         "GHAZIABAD",
         "UTTAR PRADESH",
         201102.0,
         "IN",
         "IN Core Free Shipping 2015/04/08 23-48-5-108",
         false,
         null,
         null,
         0.76,
         30,
         30,
         3,
         "Chennai",
         973
        ],
        [
         6,
         "408-5748499-6859555",
         "2022-04-30",
         "Shipped",
         "Amazon",
         "Amazon.in",
         "Expedited",
         "J0095",
         "J0095-SET-L",
         "Set",
         "L",
         "B08CMHNWBN",
         "Shipped",
         1,
         "INR",
         653.0,
         "CHANDIGARH",
         "CHANDIGARH",
         160036.0,
         "IN",
         "IN Core Free Shipping 2015/04/08 23-48-5-108",
         false,
         null,
         null,
         0.93,
         24,
         14,
         2,
         "Hyderabad",
         1247
        ],
        [
         7,
         "406-7807733-3785945",
         "2022-04-30",
         "Shipped - Delivered to Buyer",
         "Merchant",
         "Amazon.in",
         "Standard",
         "JNE3405",
         "JNE3405-KR-S",
         "kurta",
         "S",
         "B081WX4G4Q",
         "Shipped",
         1,
         "INR",
         399.0,
         "HYDERABAD",
         "TELANGANA",
         500032.0,
         "IN",
         "Amazon PLCC Free-Financing Universal Merchant AAT-WNKTBO3K27EJC,Amazon PLCC Free-Financing Universal Merchant AAT-QX3UCCJESKPA2,Amazon PLCC Free-Financing Universal Merchant AAT-5QQ7BIYYQEDN2,Amazon PLCC Free-Financing Universal Merchant AAT-DSJ2QRXXWXVMQ,Amazon PLCC Free-Financing Universal Merchant AAT-CXJHMC2YJUK76,Amazon PLCC Free-Financing Universal Merchant AAT-CC4FAVTYR4X7C,Amazon PLCC Free-Financing Universal Merchant AAT-XXRCW6NZEPZI4,Amazon PLCC Free-Financing Universal Merchant AAT-EOKPWFWYW7Y6I,Amazon PLCC Free-Financing Universal Merchant AAT-ZYL5UPUNW6T62,Amazon PLCC Free-Financing Universal Merchant AAT-ETXQ3XXWMRXBG,Amazon PLCC Free-Financing Universal Merchant AAT-7X3XCTYG64VBE,Amazon PLCC Free-Financing Universal Merchant AAT-7CHGD3WTS3MHM,Amazon PLCC Free-Financing Universal Merchant AAT-26ZDKNME27X42,Amazon PLCC Free-Financing Universal Merchant AAT-4ZF5KN6E4LJK4,Amazon PLCC Free-Financing Universal Merchant AAT-7RCXIKUAX7DDY,Amazon PLCC Free-Financing Universal Merchant AAT-BRSZZ45H6MHAO,Amazon PLCC Free-Financing Universal Merchant AAT-MKLXOOZWQL7GO,Amazon PLCC Free-Financing Universal Merchant AAT-CB7UNXEXGIJTC,Amazon PLCC Free-Financing Universal Merchant #MP-gzasho-1593152694811,Amazon PLCC Free-Financing Universal Merchant AAT-WLBA4GZ52EAH4",
         false,
         "Easy Ship",
         null,
         2.23,
         22,
         23,
         2,
         "Hyderabad",
         50
        ],
        [
         9,
         "402-4393761-0311520",
         "2022-04-30",
         "Shipped",
         "Amazon",
         "Amazon.in",
         "Expedited",
         "JNE3461",
         "JNE3461-KR-XXL",
         "kurta",
         "XXL",
         "B08B3XF5MH",
         "Shipped",
         1,
         "INR",
         363.0,
         "Chennai",
         "TAMIL NADU",
         600041.0,
         "IN",
         null,
         false,
         null,
         null,
         1.08,
         40,
         15,
         9,
         "Chennai",
         50
        ],
        [
         10,
         "407-5633625-6970741",
         "2022-04-30",
         "Shipped",
         "Amazon",
         "Amazon.in",
         "Expedited",
         "JNE3160",
         "JNE3160-KR-G-S",
         "kurta",
         "S",
         "B07K3YQLF1",
         "Shipped",
         1,
         "INR",
         685.0,
         "CHENNAI",
         "TAMIL NADU",
         600073.0,
         "IN",
         null,
         false,
         null,
         null,
         1.59,
         34,
         28,
         9,
         "Bangalore",
         1191
        ]
       ],
       "datasetInfos": [],
       "dbfsResultPath": null,
       "isJsonSchema": true,
       "metadata": {},
       "overflow": false,
       "plotOptions": {
        "customPlotOptions": {},
        "displayType": "table",
        "pivotAggregation": null,
        "pivotColumns": null,
        "xColumns": null,
        "yColumns": null
       },
       "removedWidgets": [],
       "schema": [
        {
         "metadata": "{}",
         "name": "index",
         "type": "\"integer\""
        },
        {
         "metadata": "{}",
         "name": "Order ID",
         "type": "\"string\""
        },
        {
         "metadata": "{\"__detected_date_formats\":\"M-d-yy\"}",
         "name": "Date",
         "type": "\"date\""
        },
        {
         "metadata": "{}",
         "name": "Status",
         "type": "\"string\""
        },
        {
         "metadata": "{}",
         "name": "Fulfilment",
         "type": "\"string\""
        },
        {
         "metadata": "{}",
         "name": "Sales Channel ",
         "type": "\"string\""
        },
        {
         "metadata": "{}",
         "name": "ship-service-level",
         "type": "\"string\""
        },
        {
         "metadata": "{}",
         "name": "Style",
         "type": "\"string\""
        },
        {
         "metadata": "{}",
         "name": "SKU",
         "type": "\"string\""
        },
        {
         "metadata": "{}",
         "name": "Category",
         "type": "\"string\""
        },
        {
         "metadata": "{}",
         "name": "Size",
         "type": "\"string\""
        },
        {
         "metadata": "{}",
         "name": "ASIN",
         "type": "\"string\""
        },
        {
         "metadata": "{}",
         "name": "Courier Status",
         "type": "\"string\""
        },
        {
         "metadata": "{}",
         "name": "Qty",
         "type": "\"integer\""
        },
        {
         "metadata": "{}",
         "name": "currency",
         "type": "\"string\""
        },
        {
         "metadata": "{}",
         "name": "Amount",
         "type": "\"double\""
        },
        {
         "metadata": "{}",
         "name": "ship-city",
         "type": "\"string\""
        },
        {
         "metadata": "{}",
         "name": "ship-state",
         "type": "\"string\""
        },
        {
         "metadata": "{}",
         "name": "ship-postal-code",
         "type": "\"double\""
        },
        {
         "metadata": "{}",
         "name": "ship-country",
         "type": "\"string\""
        },
        {
         "metadata": "{}",
         "name": "promotion-ids",
         "type": "\"string\""
        },
        {
         "metadata": "{}",
         "name": "B2B",
         "type": "\"boolean\""
        },
        {
         "metadata": "{}",
         "name": "fulfilled-by",
         "type": "\"string\""
        },
        {
         "metadata": "{}",
         "name": "Unnamed: 22",
         "type": "\"boolean\""
        },
        {
         "metadata": "{}",
         "name": "weight_kg",
         "type": "\"float\""
        },
        {
         "metadata": "{}",
         "name": "length_cm",
         "type": "\"integer\""
        },
        {
         "metadata": "{}",
         "name": "width_cm",
         "type": "\"integer\""
        },
        {
         "metadata": "{}",
         "name": "height_cm",
         "type": "\"integer\""
        },
        {
         "metadata": "{}",
         "name": "supplier_city",
         "type": "\"string\""
        },
        {
         "metadata": "{}",
         "name": "distance_km",
         "type": "\"integer\""
        }
       ],
       "type": "table"
      }
     },
     "output_type": "display_data"
    }
   ],
   "source": [
    "df.limit(10).display()"
   ]
  },
  {
   "cell_type": "code",
   "execution_count": 0,
   "metadata": {
    "application/vnd.databricks.v1+cell": {
     "cellMetadata": {
      "byteLimit": 2048000,
      "rowLimit": 10000
     },
     "inputWidgets": {},
     "nuid": "f782753c-deb3-49d6-879e-68029292a6b3",
     "showTitle": false,
     "tableResultSettingsMap": {},
     "title": ""
    }
   },
   "outputs": [],
   "source": [
    "#Estimate shipping cost based on weight, distance, and product dimensions\n",
    "#Formula: cost = weight * distance * rate\n",
    "rate_per_kg = 0.05\n",
    "df = df.withColumn(\"shipping_cost\", col(\"weight_kg\") * col(\"distance_km\") * lit(rate_per_kg))"
   ]
  },
  {
   "cell_type": "code",
   "execution_count": 0,
   "metadata": {
    "application/vnd.databricks.v1+cell": {
     "cellMetadata": {
      "byteLimit": 2048000,
      "rowLimit": 10000
     },
     "inputWidgets": {},
     "nuid": "3c667f1a-738c-4978-a3fd-ebe623ed9333",
     "showTitle": false,
     "tableResultSettingsMap": {},
     "title": ""
    }
   },
   "outputs": [],
   "source": [
    "#margin-aware logic\n",
    "#To offer free shipping above margin threshold, so if the unit price is \n",
    "\n",
    "df = df.withColumn(\"unit_price\", (col(\"Amount\") / col(\"Qty\")).cast(\"float\"))\n",
    "df = df.withColumn(\"free_shipping\", when(col(\"unit_price\") > 500, True).otherwise(False))"
   ]
  },
  {
   "cell_type": "code",
   "execution_count": 0,
   "metadata": {
    "application/vnd.databricks.v1+cell": {
     "cellMetadata": {
      "byteLimit": 2048000,
      "rowLimit": 10000
     },
     "inputWidgets": {},
     "nuid": "dd698215-de4e-4bfc-8312-45d95c02df74",
     "showTitle": false,
     "tableResultSettingsMap": {},
     "title": ""
    }
   },
   "outputs": [
    {
     "output_type": "stream",
     "name": "stdout",
     "output_type": "stream",
     "text": [
      "+---------------+-----------+-------------+-----------+---------+------------------+----------+-------------+\n|SKU            |ship-city  |supplier_city|distance_km|weight_kg|shipping_cost     |unit_price|free_shipping|\n+---------------+-----------+-------------+-----------+---------+------------------+----------+-------------+\n|SET389-KR-NP-S |MUMBAI     |Chennai      |1248       |2.65     |165.36000976562502|null      |false        |\n|JNE3781-KR-XXXL|BENGALURU  |Chennai      |1468       |2.34     |171.75599365234376|406.0     |false        |\n|JNE3371-KR-XL  |NAVI MUMBAI|Mumbai       |987        |1.47     |72.54450073242188 |329.0     |false        |\n|J0341-DR-L     |PUDUCHERRY |Chennai      |1610       |2.08     |167.43999023437502|null      |false        |\n|JNE3671-TU-XXXL|CHENNAI    |Hyderabad    |1856       |2.69     |249.63200683593752|574.0     |true         |\n|SET264-KR-NP-XL|GHAZIABAD  |Chennai      |1115       |0.57     |31.77749938964844 |824.0     |true         |\n|J0095-SET-L    |CHANDIGARH |Hyderabad    |627        |1.1      |34.48500061035156 |653.0     |true         |\n|JNE3405-KR-S   |HYDERABAD  |Chennai      |1617       |2.05     |165.74249267578125|399.0     |false        |\n|JNE3461-KR-XXL |Chennai    |Hyderabad    |1128       |1.26     |71.06400146484376 |363.0     |false        |\n|JNE3160-KR-G-S |CHENNAI    |Chennai      |50         |2.46     |6.15              |685.0     |true         |\n+---------------+-----------+-------------+-----------+---------+------------------+----------+-------------+\nonly showing top 10 rows\n\n"
     ]
    }
   ],
   "source": [
    "#Show final results\n",
    "df.select(\"SKU\", \"ship-city\", \"supplier_city\", \"distance_km\", \"weight_kg\", \"shipping_cost\", \"unit_price\", \"free_shipping\").show(10, truncate=False)"
   ]
  },
  {
   "cell_type": "code",
   "execution_count": 0,
   "metadata": {
    "application/vnd.databricks.v1+cell": {
     "cellMetadata": {
      "byteLimit": 2048000,
      "rowLimit": 10000
     },
     "inputWidgets": {},
     "nuid": "baad2ec2-d285-45cc-95dc-2d65dee89a84",
     "showTitle": false,
     "tableResultSettingsMap": {},
     "title": ""
    }
   },
   "outputs": [],
   "source": [
    "df.write.mode(\"overwrite\").parquet(\"/FileStore/output/shipping_estimation_results\")\n",
    "# For Delta format\n",
    "# df.write.format(\"delta\").mode(\"overwrite\").save(\"/FileStore/output/shipping_estimation_results_delta\")"
   ]
  },
  {
   "cell_type": "code",
   "execution_count": 0,
   "metadata": {
    "application/vnd.databricks.v1+cell": {
     "cellMetadata": {
      "byteLimit": 2048000,
      "rowLimit": 10000
     },
     "inputWidgets": {},
     "nuid": "9de0c97d-c7e2-4db0-aba8-ac298a944fd1",
     "showTitle": false,
     "tableResultSettingsMap": {},
     "title": ""
    }
   },
   "outputs": [],
   "source": [
    "df1 = spark.read.option(\"header\", \"true\").option(\"inferSchema\", \"true\").parquet(\"/FileStore/output/shipping_estimation_results\")"
   ]
  },
  {
   "cell_type": "code",
   "execution_count": 0,
   "metadata": {
    "application/vnd.databricks.v1+cell": {
     "cellMetadata": {
      "byteLimit": 2048000,
      "rowLimit": 10000
     },
     "inputWidgets": {},
     "nuid": "1c05f0e9-aef0-4c2c-94b5-ad48df87a1d0",
     "showTitle": false,
     "tableResultSettingsMap": {},
     "title": ""
    }
   },
   "outputs": [
    {
     "output_type": "display_data",
     "data": {
      "text/html": [
       "<style scoped>\n",
       "  .table-result-container {\n",
       "    max-height: 300px;\n",
       "    overflow: auto;\n",
       "  }\n",
       "  table, th, td {\n",
       "    border: 1px solid black;\n",
       "    border-collapse: collapse;\n",
       "  }\n",
       "  th, td {\n",
       "    padding: 5px;\n",
       "  }\n",
       "  th {\n",
       "    text-align: left;\n",
       "  }\n",
       "</style><div class='table-result-container'><table class='table-result'><thead style='background-color: white'><tr><th>index</th><th>Order ID</th><th>Date</th><th>Status</th><th>Fulfilment</th><th>Sales Channel </th><th>ship-service-level</th><th>Style</th><th>SKU</th><th>Category</th><th>Size</th><th>ASIN</th><th>Courier Status</th><th>Qty</th><th>currency</th><th>Amount</th><th>ship-city</th><th>ship-state</th><th>ship-postal-code</th><th>ship-country</th><th>promotion-ids</th><th>B2B</th><th>fulfilled-by</th><th>Unnamed: 22</th><th>weight_kg</th><th>length_cm</th><th>width_cm</th><th>height_cm</th><th>supplier_city</th><th>distance_km</th><th>shipping_cost</th><th>unit_price</th><th>free_shipping</th></tr></thead><tbody><tr><td>100647</td><td>403-3500470-2393109</td><td>2022-06-21</td><td>Cancelled</td><td>Merchant</td><td>Amazon.in</td><td>Standard</td><td>SET350</td><td>SET350-KR-NP-XL</td><td>Set</td><td>XL</td><td>B09RKD2Z9R</td><td>null</td><td>0</td><td>INR</td><td>971.43</td><td>Shillong</td><td>MEGHALAYA</td><td>793004.0</td><td>IN</td><td>null</td><td>false</td><td>Easy Ship</td><td>false</td><td>2.88</td><td>34</td><td>27</td><td>8</td><td>Chennai</td><td>1435</td><td>206.6400146484375</td><td>null</td><td>false</td></tr><tr><td>100648</td><td>406-0054633-6987507</td><td>2022-06-21</td><td>Shipped</td><td>Amazon</td><td>Amazon.in</td><td>Expedited</td><td>JNE3838</td><td>JNE3838-KR-XL</td><td>kurta</td><td>XL</td><td>B09TH574ZW</td><td>Shipped</td><td>1</td><td>INR</td><td>387.0</td><td>KALYAN</td><td>MAHARASHTRA</td><td>421301.0</td><td>IN</td><td>IN Core Free Shipping 2015/04/08 23-48-5-108</td><td>false</td><td>null</td><td>false</td><td>1.64</td><td>31</td><td>13</td><td>8</td><td>Bangalore</td><td>591</td><td>48.46199951171875</td><td>387.0</td><td>false</td></tr><tr><td>100649</td><td>408-1300504-7482734</td><td>2022-06-21</td><td>Cancelled</td><td>Amazon</td><td>Amazon.in</td><td>Expedited</td><td>SET278</td><td>SET278-KR-NP-XS</td><td>Set</td><td>XS</td><td>B0983DSS8R</td><td>Unshipped</td><td>1</td><td>INR</td><td>1447.0</td><td>JALANDHAR</td><td>PUNJAB</td><td>144003.0</td><td>IN</td><td>null</td><td>false</td><td>null</td><td>false</td><td>2.89</td><td>33</td><td>13</td><td>7</td><td>Chennai</td><td>1833</td><td>264.86850585937503</td><td>1447.0</td><td>true</td></tr><tr><td>100650</td><td>408-1013166-6688339</td><td>2022-06-21</td><td>Pending</td><td>Amazon</td><td>Amazon.in</td><td>Expedited</td><td>JNE3764</td><td>JNE3764-KR-M</td><td>kurta</td><td>M</td><td>B09K3TM23C</td><td>Unshipped</td><td>1</td><td>INR</td><td>387.0</td><td>JAIPUR</td><td>RAJASTHAN</td><td>302021.0</td><td>IN</td><td>null</td><td>false</td><td>null</td><td>false</td><td>0.85</td><td>29</td><td>14</td><td>5</td><td>Chennai</td><td>1677</td><td>71.27250366210937</td><td>387.0</td><td>false</td></tr><tr><td>100651</td><td>404-3840683-4687526</td><td>2022-06-21</td><td>Shipped - Delivered to Buyer</td><td>Merchant</td><td>Amazon.in</td><td>Standard</td><td>SET293</td><td>SET293-KR-NP-L</td><td>Set</td><td>L</td><td>B09K39CKVP</td><td>Shipped</td><td>1</td><td>INR</td><td>702.0</td><td>BENGALURU</td><td>KARNATAKA</td><td>560064.0</td><td>IN</td><td>Amazon PLCC Free-Financing Universal Merchant AAT-WNKTBO3K27EJC,Amazon PLCC Free-Financing Universal Merchant AAT-QX3UCCJESKPA2,Amazon PLCC Free-Financing Universal Merchant AAT-5QQ7BIYYQEDN2,Amazon PLCC Free-Financing Universal Merchant AAT-DSJ2QRXXWXVMQ,Amazon PLCC Free-Financing Universal Merchant AAT-CXJHMC2YJUK76,Amazon PLCC Free-Financing Universal Merchant AAT-CC4FAVTYR4X7C,Amazon PLCC Free-Financing Universal Merchant AAT-EWAPBB6BDRGM6,Amazon PLCC Free-Financing Universal Merchant AAT-EOKPWFWYW7Y6I,Amazon PLCC Free-Financing Universal Merchant AAT-5SHH3G55USK5C,Amazon PLCC Free-Financing Universal Merchant AAT-5QNBXTEQWGXOW,Amazon PLCC Free-Financing Universal Merchant AAT-BOWEMQBNNNHBK,Amazon PLCC Free-Financing Universal Merchant AAT-SKYXW7T3UZBGO,Amazon PLCC Free-Financing Universal Merchant AAT-ONHQI6RQUNGB6,Amazon PLCC Free-Financing Universal Merchant AAT-7L53RVBBSPI3S,Amazon PLCC Free-Financing Universal Merchant AAT-FXGH5APHPAWRQ,Amazon PLCC Free-Financing Universal Merchant AAT-TNYBHEAO7HOHO,Amazon PLCC Free-Financing Universal Merchant AAT-BRSZZ45H6MHAO,Amazon PLCC Free-Financing Universal Merchant AAT-MKLXOOZWQL7GO,Amazon PLCC Free-Financing Universal Merchant AAT-CB7UNXEXGIJTC,Amazon PLCC Free-Financing Universal Merchant #MP-gzasho-1593152694811,Amazon PLCC Free-Financing Universal Merchant AAT-WLBA4GZ52EAH4,Amazon PLCC Free-Financing Universal Merchant AAT-QMFZ3M7T5NPDS,Amazon PLCC Free-Financing Universal Merchant #MP-pmilan-1601980554292</td><td>false</td><td>Easy Ship</td><td>false</td><td>2.19</td><td>31</td><td>21</td><td>5</td><td>Chennai</td><td>990</td><td>108.4050048828125</td><td>702.0</td><td>true</td></tr><tr><td>100653</td><td>402-2789243-7189961</td><td>2022-06-21</td><td>Shipped</td><td>Amazon</td><td>Amazon.in</td><td>Expedited</td><td>JNE3373</td><td>JNE3373-KR-M</td><td>kurta</td><td>M</td><td>B082W8F8P3</td><td>Shipped</td><td>1</td><td>INR</td><td>376.0</td><td>BADLAPUR</td><td>MAHARASHTRA</td><td>421503.0</td><td>IN</td><td>IN Core Free Shipping 2015/04/08 23-48-5-108</td><td>false</td><td>null</td><td>false</td><td>1.19</td><td>21</td><td>26</td><td>3</td><td>Chennai</td><td>1597</td><td>95.02150268554688</td><td>376.0</td><td>false</td></tr><tr><td>100654</td><td>402-3846158-5508359</td><td>2022-06-21</td><td>Shipped</td><td>Amazon</td><td>Amazon.in</td><td>Expedited</td><td>JNE3373</td><td>JNE3373-KR-XS</td><td>kurta</td><td>XS</td><td>B082W872VQ</td><td>Shipped</td><td>1</td><td>INR</td><td>376.0</td><td>PUDUKAD</td><td>KERALA</td><td>680301.0</td><td>IN</td><td>IN Core Free Shipping 2015/04/08 23-48-5-108</td><td>false</td><td>null</td><td>false</td><td>2.08</td><td>31</td><td>18</td><td>8</td><td>Hyderabad</td><td>1736</td><td>180.54399414062502</td><td>376.0</td><td>false</td></tr><tr><td>100655</td><td>407-3035688-6229153</td><td>2022-06-21</td><td>Shipped</td><td>Amazon</td><td>Amazon.in</td><td>Expedited</td><td>JNE3793</td><td>JNE3793-KR-L</td><td>kurta</td><td>L</td><td>B09NQ7HW9W</td><td>Shipped</td><td>1</td><td>INR</td><td>349.0</td><td>HYDERABAD</td><td>TELANGANA</td><td>500083.0</td><td>IN</td><td>Duplicated A12RHGVGRWOT3S 1560498941486</td><td>false</td><td>null</td><td>false</td><td>1.88</td><td>33</td><td>24</td><td>5</td><td>Delhi</td><td>1886</td><td>177.28399658203125</td><td>349.0</td><td>false</td></tr><tr><td>100656</td><td>406-1511872-9825910</td><td>2022-06-21</td><td>Shipped - Delivered to Buyer</td><td>Merchant</td><td>Amazon.in</td><td>Standard</td><td>JNE3797</td><td>JNE3797-KR-XS</td><td>Western Dress</td><td>XS</td><td>B09SDY9SQ6</td><td>Shipped</td><td>1</td><td>INR</td><td>735.0</td><td>BENGALURU</td><td>KARNATAKA</td><td>560063.0</td><td>IN</td><td>Amazon PLCC Free-Financing Universal Merchant AAT-WNKTBO3K27EJC,Amazon PLCC Free-Financing Universal Merchant AAT-QX3UCCJESKPA2,Amazon PLCC Free-Financing Universal Merchant AAT-5QQ7BIYYQEDN2,Amazon PLCC Free-Financing Universal Merchant AAT-DSJ2QRXXWXVMQ,Amazon PLCC Free-Financing Universal Merchant AAT-CXJHMC2YJUK76,Amazon PLCC Free-Financing Universal Merchant AAT-CC4FAVTYR4X7C,Amazon PLCC Free-Financing Universal Merchant AAT-EWAPBB6BDRGM6,Amazon PLCC Free-Financing Universal Merchant AAT-EOKPWFWYW7Y6I,Amazon PLCC Free-Financing Universal Merchant AAT-5SHH3G55USK5C,Amazon PLCC Free-Financing Universal Merchant AAT-5QNBXTEQWGXOW,Amazon PLCC Free-Financing Universal Merchant AAT-BOWEMQBNNNHBK,Amazon PLCC Free-Financing Universal Merchant AAT-SKYXW7T3UZBGO,Amazon PLCC Free-Financing Universal Merchant AAT-ONHQI6RQUNGB6,Amazon PLCC Free-Financing Universal Merchant AAT-7L53RVBBSPI3S,Amazon PLCC Free-Financing Universal Merchant AAT-FXGH5APHPAWRQ,Amazon PLCC Free-Financing Universal Merchant AAT-BRSZZ45H6MHAO,Amazon PLCC Free-Financing Universal Merchant AAT-MKLXOOZWQL7GO,Amazon PLCC Free-Financing Universal Merchant AAT-CB7UNXEXGIJTC,Amazon PLCC Free-Financing Universal Merchant #MP-gzasho-1593152694811,Amazon PLCC Free-Financing Universal Merchant AAT-WLBA4GZ52EAH4</td><td>false</td><td>Easy Ship</td><td>false</td><td>2.37</td><td>21</td><td>29</td><td>9</td><td>Hyderabad</td><td>916</td><td>108.54599609375</td><td>735.0</td><td>true</td></tr><tr><td>100657</td><td>171-2087978-5437933</td><td>2022-06-21</td><td>Shipped - Delivered to Buyer</td><td>Merchant</td><td>Amazon.in</td><td>Standard</td><td>J0372</td><td>J0372-SKD-XXL</td><td>Set</td><td>XXL</td><td>B09K3G69WJ</td><td>Shipped</td><td>1</td><td>INR</td><td>1044.0</td><td>BENGALURU</td><td>KARNATAKA</td><td>560100.0</td><td>IN</td><td>Amazon PLCC Free-Financing Universal Merchant AAT-WNKTBO3K27EJC,Amazon PLCC Free-Financing Universal Merchant AAT-QX3UCCJESKPA2,Amazon PLCC Free-Financing Universal Merchant AAT-5QQ7BIYYQEDN2,Amazon PLCC Free-Financing Universal Merchant AAT-DSJ2QRXXWXVMQ,Amazon PLCC Free-Financing Universal Merchant AAT-CXJHMC2YJUK76,Amazon PLCC Free-Financing Universal Merchant AAT-CC4FAVTYR4X7C,Amazon PLCC Free-Financing Universal Merchant AAT-EWAPBB6BDRGM6,Amazon PLCC Free-Financing Universal Merchant AAT-R7GXNZWISTRFA,Amazon PLCC Free-Financing Universal Merchant AAT-EOKPWFWYW7Y6I,Amazon PLCC Free-Financing Universal Merchant AAT-NT3ZJJGQ3JK3Q,Amazon PLCC Free-Financing Universal Merchant AAT-6XVEGAWJUJYXG,Amazon PLCC Free-Financing Universal Merchant AAT-BOWEMQBNNNHBK,Amazon PLCC Free-Financing Universal Merchant AAT-SKYXW7T3UZBGO,Amazon PLCC Free-Financing Universal Merchant AAT-ONHQI6RQUNGB6,Amazon PLCC Free-Financing Universal Merchant AAT-7L53RVBBSPI3S,Amazon PLCC Free-Financing Universal Merchant AAT-FXGH5APHPAWRQ,Amazon PLCC Free-Financing Universal Merchant AAT-TNYBHEAO7HOHO,Amazon PLCC Free-Financing Universal Merchant AAT-BRSZZ45H6MHAO,Amazon PLCC Free-Financing Universal Merchant AAT-MKLXOOZWQL7GO,Amazon PLCC Free-Financing Universal Merchant AAT-CB7UNXEXGIJTC,Amazon PLCC Free-Financing Universal Merchant #MP-gzasho-1593152694811,Amazon PLCC Free-Financing Universal Merchant AAT-WLBA4GZ52EAH4,Amazon PLCC Free-Financing Universal Merchant AAT-QMFZ3M7T5NPDS,Amazon PLCC Free-Financing Universal Merchant #MP-pmilan-1601980554292</td><td>false</td><td>Easy Ship</td><td>false</td><td>2.8</td><td>29</td><td>23</td><td>3</td><td>Bangalore</td><td>1892</td><td>264.8800048828125</td><td>1044.0</td><td>true</td></tr></tbody></table></div>"
      ]
     },
     "metadata": {
      "application/vnd.databricks.v1+output": {
       "addedWidgets": {},
       "aggData": [],
       "aggError": "",
       "aggOverflow": false,
       "aggSchema": [],
       "aggSeriesLimitReached": false,
       "aggType": "",
       "arguments": {},
       "columnCustomDisplayInfos": {},
       "data": [
        [
         100647,
         "403-3500470-2393109",
         "2022-06-21",
         "Cancelled",
         "Merchant",
         "Amazon.in",
         "Standard",
         "SET350",
         "SET350-KR-NP-XL",
         "Set",
         "XL",
         "B09RKD2Z9R",
         null,
         0,
         "INR",
         971.43,
         "Shillong",
         "MEGHALAYA",
         793004.0,
         "IN",
         null,
         false,
         "Easy Ship",
         false,
         2.88,
         34,
         27,
         8,
         "Chennai",
         1435,
         206.6400146484375,
         null,
         false
        ],
        [
         100648,
         "406-0054633-6987507",
         "2022-06-21",
         "Shipped",
         "Amazon",
         "Amazon.in",
         "Expedited",
         "JNE3838",
         "JNE3838-KR-XL",
         "kurta",
         "XL",
         "B09TH574ZW",
         "Shipped",
         1,
         "INR",
         387.0,
         "KALYAN",
         "MAHARASHTRA",
         421301.0,
         "IN",
         "IN Core Free Shipping 2015/04/08 23-48-5-108",
         false,
         null,
         false,
         1.64,
         31,
         13,
         8,
         "Bangalore",
         591,
         48.46199951171875,
         387.0,
         false
        ],
        [
         100649,
         "408-1300504-7482734",
         "2022-06-21",
         "Cancelled",
         "Amazon",
         "Amazon.in",
         "Expedited",
         "SET278",
         "SET278-KR-NP-XS",
         "Set",
         "XS",
         "B0983DSS8R",
         "Unshipped",
         1,
         "INR",
         1447.0,
         "JALANDHAR",
         "PUNJAB",
         144003.0,
         "IN",
         null,
         false,
         null,
         false,
         2.89,
         33,
         13,
         7,
         "Chennai",
         1833,
         264.86850585937503,
         1447.0,
         true
        ],
        [
         100650,
         "408-1013166-6688339",
         "2022-06-21",
         "Pending",
         "Amazon",
         "Amazon.in",
         "Expedited",
         "JNE3764",
         "JNE3764-KR-M",
         "kurta",
         "M",
         "B09K3TM23C",
         "Unshipped",
         1,
         "INR",
         387.0,
         "JAIPUR",
         "RAJASTHAN",
         302021.0,
         "IN",
         null,
         false,
         null,
         false,
         0.85,
         29,
         14,
         5,
         "Chennai",
         1677,
         71.27250366210937,
         387.0,
         false
        ],
        [
         100651,
         "404-3840683-4687526",
         "2022-06-21",
         "Shipped - Delivered to Buyer",
         "Merchant",
         "Amazon.in",
         "Standard",
         "SET293",
         "SET293-KR-NP-L",
         "Set",
         "L",
         "B09K39CKVP",
         "Shipped",
         1,
         "INR",
         702.0,
         "BENGALURU",
         "KARNATAKA",
         560064.0,
         "IN",
         "Amazon PLCC Free-Financing Universal Merchant AAT-WNKTBO3K27EJC,Amazon PLCC Free-Financing Universal Merchant AAT-QX3UCCJESKPA2,Amazon PLCC Free-Financing Universal Merchant AAT-5QQ7BIYYQEDN2,Amazon PLCC Free-Financing Universal Merchant AAT-DSJ2QRXXWXVMQ,Amazon PLCC Free-Financing Universal Merchant AAT-CXJHMC2YJUK76,Amazon PLCC Free-Financing Universal Merchant AAT-CC4FAVTYR4X7C,Amazon PLCC Free-Financing Universal Merchant AAT-EWAPBB6BDRGM6,Amazon PLCC Free-Financing Universal Merchant AAT-EOKPWFWYW7Y6I,Amazon PLCC Free-Financing Universal Merchant AAT-5SHH3G55USK5C,Amazon PLCC Free-Financing Universal Merchant AAT-5QNBXTEQWGXOW,Amazon PLCC Free-Financing Universal Merchant AAT-BOWEMQBNNNHBK,Amazon PLCC Free-Financing Universal Merchant AAT-SKYXW7T3UZBGO,Amazon PLCC Free-Financing Universal Merchant AAT-ONHQI6RQUNGB6,Amazon PLCC Free-Financing Universal Merchant AAT-7L53RVBBSPI3S,Amazon PLCC Free-Financing Universal Merchant AAT-FXGH5APHPAWRQ,Amazon PLCC Free-Financing Universal Merchant AAT-TNYBHEAO7HOHO,Amazon PLCC Free-Financing Universal Merchant AAT-BRSZZ45H6MHAO,Amazon PLCC Free-Financing Universal Merchant AAT-MKLXOOZWQL7GO,Amazon PLCC Free-Financing Universal Merchant AAT-CB7UNXEXGIJTC,Amazon PLCC Free-Financing Universal Merchant #MP-gzasho-1593152694811,Amazon PLCC Free-Financing Universal Merchant AAT-WLBA4GZ52EAH4,Amazon PLCC Free-Financing Universal Merchant AAT-QMFZ3M7T5NPDS,Amazon PLCC Free-Financing Universal Merchant #MP-pmilan-1601980554292",
         false,
         "Easy Ship",
         false,
         2.19,
         31,
         21,
         5,
         "Chennai",
         990,
         108.4050048828125,
         702.0,
         true
        ],
        [
         100653,
         "402-2789243-7189961",
         "2022-06-21",
         "Shipped",
         "Amazon",
         "Amazon.in",
         "Expedited",
         "JNE3373",
         "JNE3373-KR-M",
         "kurta",
         "M",
         "B082W8F8P3",
         "Shipped",
         1,
         "INR",
         376.0,
         "BADLAPUR",
         "MAHARASHTRA",
         421503.0,
         "IN",
         "IN Core Free Shipping 2015/04/08 23-48-5-108",
         false,
         null,
         false,
         1.19,
         21,
         26,
         3,
         "Chennai",
         1597,
         95.02150268554688,
         376.0,
         false
        ],
        [
         100654,
         "402-3846158-5508359",
         "2022-06-21",
         "Shipped",
         "Amazon",
         "Amazon.in",
         "Expedited",
         "JNE3373",
         "JNE3373-KR-XS",
         "kurta",
         "XS",
         "B082W872VQ",
         "Shipped",
         1,
         "INR",
         376.0,
         "PUDUKAD",
         "KERALA",
         680301.0,
         "IN",
         "IN Core Free Shipping 2015/04/08 23-48-5-108",
         false,
         null,
         false,
         2.08,
         31,
         18,
         8,
         "Hyderabad",
         1736,
         180.54399414062502,
         376.0,
         false
        ],
        [
         100655,
         "407-3035688-6229153",
         "2022-06-21",
         "Shipped",
         "Amazon",
         "Amazon.in",
         "Expedited",
         "JNE3793",
         "JNE3793-KR-L",
         "kurta",
         "L",
         "B09NQ7HW9W",
         "Shipped",
         1,
         "INR",
         349.0,
         "HYDERABAD",
         "TELANGANA",
         500083.0,
         "IN",
         "Duplicated A12RHGVGRWOT3S 1560498941486",
         false,
         null,
         false,
         1.88,
         33,
         24,
         5,
         "Delhi",
         1886,
         177.28399658203125,
         349.0,
         false
        ],
        [
         100656,
         "406-1511872-9825910",
         "2022-06-21",
         "Shipped - Delivered to Buyer",
         "Merchant",
         "Amazon.in",
         "Standard",
         "JNE3797",
         "JNE3797-KR-XS",
         "Western Dress",
         "XS",
         "B09SDY9SQ6",
         "Shipped",
         1,
         "INR",
         735.0,
         "BENGALURU",
         "KARNATAKA",
         560063.0,
         "IN",
         "Amazon PLCC Free-Financing Universal Merchant AAT-WNKTBO3K27EJC,Amazon PLCC Free-Financing Universal Merchant AAT-QX3UCCJESKPA2,Amazon PLCC Free-Financing Universal Merchant AAT-5QQ7BIYYQEDN2,Amazon PLCC Free-Financing Universal Merchant AAT-DSJ2QRXXWXVMQ,Amazon PLCC Free-Financing Universal Merchant AAT-CXJHMC2YJUK76,Amazon PLCC Free-Financing Universal Merchant AAT-CC4FAVTYR4X7C,Amazon PLCC Free-Financing Universal Merchant AAT-EWAPBB6BDRGM6,Amazon PLCC Free-Financing Universal Merchant AAT-EOKPWFWYW7Y6I,Amazon PLCC Free-Financing Universal Merchant AAT-5SHH3G55USK5C,Amazon PLCC Free-Financing Universal Merchant AAT-5QNBXTEQWGXOW,Amazon PLCC Free-Financing Universal Merchant AAT-BOWEMQBNNNHBK,Amazon PLCC Free-Financing Universal Merchant AAT-SKYXW7T3UZBGO,Amazon PLCC Free-Financing Universal Merchant AAT-ONHQI6RQUNGB6,Amazon PLCC Free-Financing Universal Merchant AAT-7L53RVBBSPI3S,Amazon PLCC Free-Financing Universal Merchant AAT-FXGH5APHPAWRQ,Amazon PLCC Free-Financing Universal Merchant AAT-BRSZZ45H6MHAO,Amazon PLCC Free-Financing Universal Merchant AAT-MKLXOOZWQL7GO,Amazon PLCC Free-Financing Universal Merchant AAT-CB7UNXEXGIJTC,Amazon PLCC Free-Financing Universal Merchant #MP-gzasho-1593152694811,Amazon PLCC Free-Financing Universal Merchant AAT-WLBA4GZ52EAH4",
         false,
         "Easy Ship",
         false,
         2.37,
         21,
         29,
         9,
         "Hyderabad",
         916,
         108.54599609375,
         735.0,
         true
        ],
        [
         100657,
         "171-2087978-5437933",
         "2022-06-21",
         "Shipped - Delivered to Buyer",
         "Merchant",
         "Amazon.in",
         "Standard",
         "J0372",
         "J0372-SKD-XXL",
         "Set",
         "XXL",
         "B09K3G69WJ",
         "Shipped",
         1,
         "INR",
         1044.0,
         "BENGALURU",
         "KARNATAKA",
         560100.0,
         "IN",
         "Amazon PLCC Free-Financing Universal Merchant AAT-WNKTBO3K27EJC,Amazon PLCC Free-Financing Universal Merchant AAT-QX3UCCJESKPA2,Amazon PLCC Free-Financing Universal Merchant AAT-5QQ7BIYYQEDN2,Amazon PLCC Free-Financing Universal Merchant AAT-DSJ2QRXXWXVMQ,Amazon PLCC Free-Financing Universal Merchant AAT-CXJHMC2YJUK76,Amazon PLCC Free-Financing Universal Merchant AAT-CC4FAVTYR4X7C,Amazon PLCC Free-Financing Universal Merchant AAT-EWAPBB6BDRGM6,Amazon PLCC Free-Financing Universal Merchant AAT-R7GXNZWISTRFA,Amazon PLCC Free-Financing Universal Merchant AAT-EOKPWFWYW7Y6I,Amazon PLCC Free-Financing Universal Merchant AAT-NT3ZJJGQ3JK3Q,Amazon PLCC Free-Financing Universal Merchant AAT-6XVEGAWJUJYXG,Amazon PLCC Free-Financing Universal Merchant AAT-BOWEMQBNNNHBK,Amazon PLCC Free-Financing Universal Merchant AAT-SKYXW7T3UZBGO,Amazon PLCC Free-Financing Universal Merchant AAT-ONHQI6RQUNGB6,Amazon PLCC Free-Financing Universal Merchant AAT-7L53RVBBSPI3S,Amazon PLCC Free-Financing Universal Merchant AAT-FXGH5APHPAWRQ,Amazon PLCC Free-Financing Universal Merchant AAT-TNYBHEAO7HOHO,Amazon PLCC Free-Financing Universal Merchant AAT-BRSZZ45H6MHAO,Amazon PLCC Free-Financing Universal Merchant AAT-MKLXOOZWQL7GO,Amazon PLCC Free-Financing Universal Merchant AAT-CB7UNXEXGIJTC,Amazon PLCC Free-Financing Universal Merchant #MP-gzasho-1593152694811,Amazon PLCC Free-Financing Universal Merchant AAT-WLBA4GZ52EAH4,Amazon PLCC Free-Financing Universal Merchant AAT-QMFZ3M7T5NPDS,Amazon PLCC Free-Financing Universal Merchant #MP-pmilan-1601980554292",
         false,
         "Easy Ship",
         false,
         2.8,
         29,
         23,
         3,
         "Bangalore",
         1892,
         264.8800048828125,
         1044.0,
         true
        ]
       ],
       "datasetInfos": [],
       "dbfsResultPath": null,
       "isJsonSchema": true,
       "metadata": {},
       "overflow": false,
       "plotOptions": {
        "customPlotOptions": {},
        "displayType": "table",
        "pivotAggregation": null,
        "pivotColumns": null,
        "xColumns": null,
        "yColumns": null
       },
       "removedWidgets": [],
       "schema": [
        {
         "metadata": "{}",
         "name": "index",
         "type": "\"integer\""
        },
        {
         "metadata": "{}",
         "name": "Order ID",
         "type": "\"string\""
        },
        {
         "metadata": "{\"__detected_date_formats\":\"M-d-yy\"}",
         "name": "Date",
         "type": "\"date\""
        },
        {
         "metadata": "{}",
         "name": "Status",
         "type": "\"string\""
        },
        {
         "metadata": "{}",
         "name": "Fulfilment",
         "type": "\"string\""
        },
        {
         "metadata": "{}",
         "name": "Sales Channel ",
         "type": "\"string\""
        },
        {
         "metadata": "{}",
         "name": "ship-service-level",
         "type": "\"string\""
        },
        {
         "metadata": "{}",
         "name": "Style",
         "type": "\"string\""
        },
        {
         "metadata": "{}",
         "name": "SKU",
         "type": "\"string\""
        },
        {
         "metadata": "{}",
         "name": "Category",
         "type": "\"string\""
        },
        {
         "metadata": "{}",
         "name": "Size",
         "type": "\"string\""
        },
        {
         "metadata": "{}",
         "name": "ASIN",
         "type": "\"string\""
        },
        {
         "metadata": "{}",
         "name": "Courier Status",
         "type": "\"string\""
        },
        {
         "metadata": "{}",
         "name": "Qty",
         "type": "\"integer\""
        },
        {
         "metadata": "{}",
         "name": "currency",
         "type": "\"string\""
        },
        {
         "metadata": "{}",
         "name": "Amount",
         "type": "\"double\""
        },
        {
         "metadata": "{}",
         "name": "ship-city",
         "type": "\"string\""
        },
        {
         "metadata": "{}",
         "name": "ship-state",
         "type": "\"string\""
        },
        {
         "metadata": "{}",
         "name": "ship-postal-code",
         "type": "\"double\""
        },
        {
         "metadata": "{}",
         "name": "ship-country",
         "type": "\"string\""
        },
        {
         "metadata": "{}",
         "name": "promotion-ids",
         "type": "\"string\""
        },
        {
         "metadata": "{}",
         "name": "B2B",
         "type": "\"boolean\""
        },
        {
         "metadata": "{}",
         "name": "fulfilled-by",
         "type": "\"string\""
        },
        {
         "metadata": "{}",
         "name": "Unnamed: 22",
         "type": "\"boolean\""
        },
        {
         "metadata": "{}",
         "name": "weight_kg",
         "type": "\"float\""
        },
        {
         "metadata": "{}",
         "name": "length_cm",
         "type": "\"integer\""
        },
        {
         "metadata": "{}",
         "name": "width_cm",
         "type": "\"integer\""
        },
        {
         "metadata": "{}",
         "name": "height_cm",
         "type": "\"integer\""
        },
        {
         "metadata": "{}",
         "name": "supplier_city",
         "type": "\"string\""
        },
        {
         "metadata": "{}",
         "name": "distance_km",
         "type": "\"integer\""
        },
        {
         "metadata": "{}",
         "name": "shipping_cost",
         "type": "\"double\""
        },
        {
         "metadata": "{}",
         "name": "unit_price",
         "type": "\"float\""
        },
        {
         "metadata": "{}",
         "name": "free_shipping",
         "type": "\"boolean\""
        }
       ],
       "type": "table"
      }
     },
     "output_type": "display_data"
    }
   ],
   "source": [
    "df1.limit(10).display()"
   ]
  }
 ],
 "metadata": {
  "application/vnd.databricks.v1+notebook": {
   "computePreferences": null,
   "dashboards": [],
   "environmentMetadata": {
    "base_environment": "",
    "environment_version": "1"
   },
   "inputWidgetPreferences": null,
   "language": "python",
   "notebookMetadata": {
    "pythonIndentUnit": 4
   },
   "notebookName": "shipping_price_estimator",
   "widgets": {}
  }
 },
 "nbformat": 4,
 "nbformat_minor": 0
}